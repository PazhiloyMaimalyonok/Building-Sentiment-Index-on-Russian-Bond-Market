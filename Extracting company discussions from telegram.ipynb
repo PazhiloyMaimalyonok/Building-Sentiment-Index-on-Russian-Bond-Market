{
 "cells": [
  {
   "cell_type": "code",
   "execution_count": 1,
   "metadata": {},
   "outputs": [],
   "source": [
    "import os\n",
    "import pandas as pd\n",
    "import numpy as np\n",
    "import matplotlib.pyplot as plt\n",
    "import statsmodels.stats as sms\n",
    "import statsmodels.api as sm"
   ]
  },
  {
   "cell_type": "markdown",
   "metadata": {},
   "source": [
    "# Creating csv for messages"
   ]
  },
  {
   "cell_type": "code",
   "execution_count": 2,
   "metadata": {},
   "outputs": [
    {
     "data": {
      "text/plain": [
       "['Angrybonds', 'Angrybonds chat', 'Probonds', 'Probonds chat']"
      ]
     },
     "execution_count": 2,
     "metadata": {},
     "output_type": "execute_result"
    }
   ],
   "source": [
    "os.listdir('text')"
   ]
  },
  {
   "cell_type": "code",
   "execution_count": 3,
   "metadata": {},
   "outputs": [],
   "source": [
    "Angrybonds = pd.DataFrame()\n",
    "proverka = 0\n",
    "available = [i for i in os.listdir('text/'+'Angrybonds') if len(i.split('csv')) != 1]\n",
    "for file in available:\n",
    "    df = pd.read_csv('text/' + 'Angrybonds/' + file, sep = '|')\n",
    "    del df['Unnamed: 0']\n",
    "    df['time'] = df['time'].apply(lambda x: str(x)[:10])\n",
    "    df.time = pd.to_datetime(df.time,yearfirst=False,format= '%d.%m.%Y')\n",
    "    Angrybonds = pd.concat([Angrybonds,df], axis = 0)\n",
    "    proverka+= df.shape[0]\n",
    "Angrybonds.sort_index(inplace = True)\n",
    "assert proverka == Angrybonds.shape[0]"
   ]
  },
  {
   "cell_type": "code",
   "execution_count": 4,
   "metadata": {},
   "outputs": [],
   "source": [
    "Angrybonds_chat = pd.DataFrame()\n",
    "proverka = 0\n",
    "available = [i for i in os.listdir('text/'+'Angrybonds chat') if len(i.split('csv')) != 1]\n",
    "for file in available:\n",
    "    df = pd.read_csv('text/' + 'Angrybonds chat/' + file, sep = '|')\n",
    "    del df['Unnamed: 0']\n",
    "    df['time'] = df['time'].apply(lambda x: str(x)[:10])\n",
    "    df.time = pd.to_datetime(df.time,yearfirst=False,format= '%d.%m.%Y')\n",
    "    Angrybonds_chat = pd.concat([Angrybonds_chat,df], axis = 0)\n",
    "    proverka+= df.shape[0]\n",
    "Angrybonds_chat.sort_index(inplace = True)\n",
    "assert proverka == Angrybonds_chat.shape[0]"
   ]
  },
  {
   "cell_type": "code",
   "execution_count": 5,
   "metadata": {},
   "outputs": [],
   "source": [
    "Probonds = pd.DataFrame()\n",
    "proverka = 0\n",
    "available = [i for i in os.listdir('text/'+'Probonds') if len(i.split('csv')) != 1]\n",
    "for file in available:\n",
    "    df = pd.read_csv('text/' + 'Probonds/' + file, sep = '|')\n",
    "    del df['Unnamed: 0']\n",
    "    df['time'] = df['time'].apply(lambda x: str(x)[:10])\n",
    "    df.time = pd.to_datetime(df.time,yearfirst=False,format= '%d.%m.%Y')\n",
    "    Probonds = pd.concat([Probonds,df], axis = 0)\n",
    "    proverka+= df.shape[0]\n",
    "Probonds.sort_index(inplace = True)\n",
    "assert proverka == Probonds.shape[0]"
   ]
  },
  {
   "cell_type": "code",
   "execution_count": 6,
   "metadata": {},
   "outputs": [],
   "source": [
    "Probonds_chat = pd.DataFrame()\n",
    "proverka = 0\n",
    "available = [i for i in os.listdir('text/'+'Probonds chat') if len(i.split('csv')) != 1]\n",
    "for file in available:\n",
    "    df = pd.read_csv('text/' + 'Probonds chat/' + file, sep = '|')\n",
    "    del df['Unnamed: 0']\n",
    "    df['time'] = df['time'].apply(lambda x: str(x)[:10])\n",
    "    df.time = pd.to_datetime(df.time,yearfirst=False,format= '%d.%m.%Y')\n",
    "    Probonds_chat = pd.concat([Probonds_chat,df], axis = 0)\n",
    "    proverka+= df.shape[0]\n",
    "Probonds_chat.sort_index(inplace = True)\n",
    "assert proverka == Probonds_chat.shape[0]"
   ]
  },
  {
   "cell_type": "code",
   "execution_count": 7,
   "metadata": {},
   "outputs": [
    {
     "data": {
      "text/html": [
       "<div>\n",
       "<style scoped>\n",
       "    .dataframe tbody tr th:only-of-type {\n",
       "        vertical-align: middle;\n",
       "    }\n",
       "\n",
       "    .dataframe tbody tr th {\n",
       "        vertical-align: top;\n",
       "    }\n",
       "\n",
       "    .dataframe thead th {\n",
       "        text-align: right;\n",
       "    }\n",
       "</style>\n",
       "<table border=\"1\" class=\"dataframe\">\n",
       "  <thead>\n",
       "    <tr style=\"text-align: right;\">\n",
       "      <th></th>\n",
       "      <th>time</th>\n",
       "      <th>user</th>\n",
       "      <th>text</th>\n",
       "    </tr>\n",
       "  </thead>\n",
       "  <tbody>\n",
       "    <tr>\n",
       "      <th>0</th>\n",
       "      <td>2018-08-02</td>\n",
       "      <td>PRObonds | Иволга Капитал</td>\n",
       "      <td>Всем привет Начинаем вести канал. И продолжаем...</td>\n",
       "    </tr>\n",
       "    <tr>\n",
       "      <th>1</th>\n",
       "      <td>2018-08-02</td>\n",
       "      <td>PRObonds | Иволга Капитал</td>\n",
       "      <td>Это то, что мы должны получить.</td>\n",
       "    </tr>\n",
       "    <tr>\n",
       "      <th>3</th>\n",
       "      <td>2018-08-02</td>\n",
       "      <td>PRObonds | Иволга Капитал</td>\n",
       "      <td>И наиболее интересное вот как вел себя наш пор...</td>\n",
       "    </tr>\n",
       "    <tr>\n",
       "      <th>2</th>\n",
       "      <td>2018-08-02</td>\n",
       "      <td>PRObonds | Иволга Капитал</td>\n",
       "      <td>Состав портфеля на момент старта. Он и сейчас ...</td>\n",
       "    </tr>\n",
       "    <tr>\n",
       "      <th>5</th>\n",
       "      <td>2018-08-03</td>\n",
       "      <td>PRObonds | Иволга Капитал</td>\n",
       "      <td>http//forum.mfd.ru/forum/thread/id95633 Это ещ...</td>\n",
       "    </tr>\n",
       "    <tr>\n",
       "      <th>...</th>\n",
       "      <td>...</td>\n",
       "      <td>...</td>\n",
       "      <td>...</td>\n",
       "    </tr>\n",
       "    <tr>\n",
       "      <th>210</th>\n",
       "      <td>2020-05-14</td>\n",
       "      <td>PRObonds | Иволга Капитал</td>\n",
       "      <td>портфелиprobonds сделки легенда легион Мы прод...</td>\n",
       "    </tr>\n",
       "    <tr>\n",
       "      <th>211</th>\n",
       "      <td>2020-05-14</td>\n",
       "      <td>PRObonds | Иволга Капитал</td>\n",
       "      <td>Деньги и облигации. Реакция на кризис Мир на п...</td>\n",
       "    </tr>\n",
       "    <tr>\n",
       "      <th>212</th>\n",
       "      <td>2020-05-15</td>\n",
       "      <td>PRObonds | Иволга Капитал</td>\n",
       "      <td>хроникикризиса макроэкономика ввп И мир, и Рос...</td>\n",
       "    </tr>\n",
       "    <tr>\n",
       "      <th>213</th>\n",
       "      <td>2020-05-15</td>\n",
       "      <td>PRObonds | Иволга Капитал</td>\n",
       "      <td>долгиденьги Ожидания июньского понижения ключе...</td>\n",
       "    </tr>\n",
       "    <tr>\n",
       "      <th>214</th>\n",
       "      <td>2020-05-18</td>\n",
       "      <td>PRObonds | Иволга Капитал</td>\n",
       "      <td>нефть рубль Динамика нефти предвещает относите...</td>\n",
       "    </tr>\n",
       "  </tbody>\n",
       "</table>\n",
       "<p>2295 rows × 3 columns</p>\n",
       "</div>"
      ],
      "text/plain": [
       "          time                       user  \\\n",
       "0   2018-08-02  PRObonds | Иволга Капитал   \n",
       "1   2018-08-02  PRObonds | Иволга Капитал   \n",
       "3   2018-08-02  PRObonds | Иволга Капитал   \n",
       "2   2018-08-02  PRObonds | Иволга Капитал   \n",
       "5   2018-08-03  PRObonds | Иволга Капитал   \n",
       "..         ...                        ...   \n",
       "210 2020-05-14  PRObonds | Иволга Капитал   \n",
       "211 2020-05-14  PRObonds | Иволга Капитал   \n",
       "212 2020-05-15  PRObonds | Иволга Капитал   \n",
       "213 2020-05-15  PRObonds | Иволга Капитал   \n",
       "214 2020-05-18  PRObonds | Иволга Капитал   \n",
       "\n",
       "                                                  text  \n",
       "0    Всем привет Начинаем вести канал. И продолжаем...  \n",
       "1                      Это то, что мы должны получить.  \n",
       "3    И наиболее интересное вот как вел себя наш пор...  \n",
       "2    Состав портфеля на момент старта. Он и сейчас ...  \n",
       "5    http//forum.mfd.ru/forum/thread/id95633 Это ещ...  \n",
       "..                                                 ...  \n",
       "210  портфелиprobonds сделки легенда легион Мы прод...  \n",
       "211  Деньги и облигации. Реакция на кризис Мир на п...  \n",
       "212  хроникикризиса макроэкономика ввп И мир, и Рос...  \n",
       "213  долгиденьги Ожидания июньского понижения ключе...  \n",
       "214  нефть рубль Динамика нефти предвещает относите...  \n",
       "\n",
       "[2295 rows x 3 columns]"
      ]
     },
     "execution_count": 7,
     "metadata": {},
     "output_type": "execute_result"
    }
   ],
   "source": [
    "Probonds.sort_values('time')"
   ]
  },
  {
   "cell_type": "markdown",
   "metadata": {},
   "source": [
    "# Подсчет упоминаний"
   ]
  },
  {
   "cell_type": "code",
   "execution_count": 8,
   "metadata": {},
   "outputs": [
    {
     "data": {
      "text/plain": [
       "('роделен', 'rodelen')"
      ]
     },
     "execution_count": 8,
     "metadata": {},
     "output_type": "execute_result"
    }
   ],
   "source": [
    "dictionary = {'Роделен': ('роделен', 'rodelen'), \"ТЕХНО Лизинг\": (\"техлиз\", \"техно лизинг\", \"техно\"), \"Пионер-Лизинг\":\\\n",
    "              (\"пионлиз\", \"пион\")}\n",
    "dictionary['Роделен']"
   ]
  },
  {
   "cell_type": "code",
   "execution_count": 9,
   "metadata": {},
   "outputs": [],
   "source": [
    "df = Probonds_chat\n",
    "df['text'] = df['text'].apply(lambda x: str(x).lower())\n",
    "for company in dictionary.keys():\n",
    "    df[company] = df['text'].apply(lambda x: 1 if any(str(x).find(slovo) !=-1 for slovo in dictionary[company]) else 0)\n",
    "    \n",
    "df = Probonds\n",
    "df['text'] = df['text'].apply(lambda x: str(x).lower())\n",
    "for company in dictionary.keys():\n",
    "    df[company] = df['text'].apply(lambda x: 1 if any(str(x).find(slovo) !=-1 for slovo in dictionary[company]) else 0)\n",
    "    \n",
    "df = Angrybonds\n",
    "df['text'] = df['text'].apply(lambda x: str(x).lower())\n",
    "for company in dictionary.keys():\n",
    "    df[company] = df['text'].apply(lambda x: 1 if any(str(x).find(slovo) !=-1 for slovo in dictionary[company]) else 0)\n",
    "    \n",
    "df = Angrybonds_chat\n",
    "df['text'] = df['text'].apply(lambda x: str(x).lower())\n",
    "for company in dictionary.keys():\n",
    "    df[company] = df['text'].apply(lambda x: 1 if any(str(x).find(slovo) !=-1 for slovo in dictionary[company]) else 0)"
   ]
  },
  {
   "cell_type": "code",
   "execution_count": 10,
   "metadata": {},
   "outputs": [],
   "source": [
    "#реклама в группах\n",
    "chatiki = [Probonds, Angrybonds]\n",
    "new_var_list = [pd.DataFrame(), pd.DataFrame(), pd.DataFrame()]\n",
    "i = 0\n",
    "for company in dictionary.keys():    \n",
    "    for chat in chatiki:\n",
    "        ez = chat[[company, 'time']].groupby('time', as_index = False).sum()\n",
    "        new_var_list[i] = pd.concat([new_var_list[i],ez], axis=0).groupby('time', as_index = False).sum()\n",
    "    new_var_list[i].set_index('time', inplace = True)\n",
    "    new_var_list[i] = new_var_list[i].apply(np.sign)\n",
    "    i +=1\n",
    "adv_rodelen, adv_texno, adv_pioner = new_var_list\n",
    "\n",
    "for company in [adv_rodelen, adv_texno, adv_pioner]:\n",
    "    company.columns = ['рекламные упоминания ' + company.columns[0]]\n"
   ]
  },
  {
   "cell_type": "code",
   "execution_count": 11,
   "metadata": {},
   "outputs": [],
   "source": [
    "#Обсждение в чате\n",
    "chatiki = [Probonds_chat, Angrybonds_chat]\n",
    "new_var_list = [pd.DataFrame(), pd.DataFrame(), pd.DataFrame()]\n",
    "i = 0\n",
    "for company in dictionary.keys():    \n",
    "    for chat in chatiki:\n",
    "        ez = chat[[company, 'time']].groupby('time', as_index = False).sum()\n",
    "        new_var_list[i] = pd.concat([new_var_list[i],ez], axis=0).groupby('time', as_index = False).sum()\n",
    "    i +=1\n",
    "rodelen, texno, pioner = new_var_list"
   ]
  },
  {
   "cell_type": "code",
   "execution_count": 18,
   "metadata": {},
   "outputs": [
    {
     "data": {
      "text/html": [
       "<div>\n",
       "<style scoped>\n",
       "    .dataframe tbody tr th:only-of-type {\n",
       "        vertical-align: middle;\n",
       "    }\n",
       "\n",
       "    .dataframe tbody tr th {\n",
       "        vertical-align: top;\n",
       "    }\n",
       "\n",
       "    .dataframe thead th {\n",
       "        text-align: right;\n",
       "    }\n",
       "</style>\n",
       "<table border=\"1\" class=\"dataframe\">\n",
       "  <thead>\n",
       "    <tr style=\"text-align: right;\">\n",
       "      <th></th>\n",
       "      <th>time</th>\n",
       "      <th>Роделен</th>\n",
       "    </tr>\n",
       "  </thead>\n",
       "  <tbody>\n",
       "    <tr>\n",
       "      <th>0</th>\n",
       "      <td>2018-02-08</td>\n",
       "      <td>0</td>\n",
       "    </tr>\n",
       "    <tr>\n",
       "      <th>1</th>\n",
       "      <td>2018-02-09</td>\n",
       "      <td>0</td>\n",
       "    </tr>\n",
       "    <tr>\n",
       "      <th>2</th>\n",
       "      <td>2018-02-10</td>\n",
       "      <td>0</td>\n",
       "    </tr>\n",
       "    <tr>\n",
       "      <th>3</th>\n",
       "      <td>2018-02-11</td>\n",
       "      <td>0</td>\n",
       "    </tr>\n",
       "    <tr>\n",
       "      <th>4</th>\n",
       "      <td>2018-02-12</td>\n",
       "      <td>0</td>\n",
       "    </tr>\n",
       "    <tr>\n",
       "      <th>...</th>\n",
       "      <td>...</td>\n",
       "      <td>...</td>\n",
       "    </tr>\n",
       "    <tr>\n",
       "      <th>811</th>\n",
       "      <td>2020-05-14</td>\n",
       "      <td>1</td>\n",
       "    </tr>\n",
       "    <tr>\n",
       "      <th>812</th>\n",
       "      <td>2020-05-15</td>\n",
       "      <td>1</td>\n",
       "    </tr>\n",
       "    <tr>\n",
       "      <th>813</th>\n",
       "      <td>2020-05-16</td>\n",
       "      <td>0</td>\n",
       "    </tr>\n",
       "    <tr>\n",
       "      <th>814</th>\n",
       "      <td>2020-05-17</td>\n",
       "      <td>0</td>\n",
       "    </tr>\n",
       "    <tr>\n",
       "      <th>815</th>\n",
       "      <td>2020-05-18</td>\n",
       "      <td>0</td>\n",
       "    </tr>\n",
       "  </tbody>\n",
       "</table>\n",
       "<p>816 rows × 2 columns</p>\n",
       "</div>"
      ],
      "text/plain": [
       "          time  Роделен\n",
       "0   2018-02-08        0\n",
       "1   2018-02-09        0\n",
       "2   2018-02-10        0\n",
       "3   2018-02-11        0\n",
       "4   2018-02-12        0\n",
       "..         ...      ...\n",
       "811 2020-05-14        1\n",
       "812 2020-05-15        1\n",
       "813 2020-05-16        0\n",
       "814 2020-05-17        0\n",
       "815 2020-05-18        0\n",
       "\n",
       "[816 rows x 2 columns]"
      ]
     },
     "execution_count": 18,
     "metadata": {},
     "output_type": "execute_result"
    }
   ],
   "source": [
    "rodelen"
   ]
  },
  {
   "cell_type": "code",
   "execution_count": 28,
   "metadata": {},
   "outputs": [
    {
     "data": {
      "text/plain": [
       "Text(0.5, 1.0, 'Распределение упоминаний компании Роделен')"
      ]
     },
     "execution_count": 28,
     "metadata": {},
     "output_type": "execute_result"
    },
    {
     "data": {
      "image/png": "[encoded data removed]",
      "text/plain": [
       "<Figure size 432x288 with 1 Axes>"
      ]
     },
     "metadata": {
      "needs_background": "light"
     },
     "output_type": "display_data"
    }
   ],
   "source": [
    "import seaborn as sns\n",
    "plt.hist(rodelen['Роделен'].values)\n",
    "plt.title('Распределение упоминаний компании Роделен')"
   ]
  },
  {
   "cell_type": "code",
   "execution_count": 22,
   "metadata": {},
   "outputs": [
    {
     "data": {
      "text/plain": [
       "Index(['time', 'Пионер-Лизинг'], dtype='object')"
      ]
     },
     "execution_count": 22,
     "metadata": {},
     "output_type": "execute_result"
    }
   ],
   "source": [
    "pioner.columns"
   ]
  },
  {
   "cell_type": "code",
   "execution_count": 23,
   "metadata": {},
   "outputs": [
    {
     "data": {
      "text/plain": [
       "Text(0.5, 1.0, 'Распределение упоминаний компании Пионер-Лизинг')"
      ]
     },
     "execution_count": 23,
     "metadata": {},
     "output_type": "execute_result"
    },
    {
     "data": {
      "image/png": "[encoded data removed]",
      "text/plain": [
       "<Figure size 432x288 with 1 Axes>"
      ]
     },
     "metadata": {
      "needs_background": "light"
     },
     "output_type": "display_data"
    }
   ],
   "source": [
    "plt.hist(pioner['Пионер-Лизинг'].values)\n",
    "plt.title('Распределение упоминаний компании Пионер-Лизинг')"
   ]
  },
  {
   "cell_type": "code",
   "execution_count": 25,
   "metadata": {},
   "outputs": [
    {
     "data": {
      "text/plain": [
       "Index(['time', 'ТЕХНО Лизинг'], dtype='object')"
      ]
     },
     "execution_count": 25,
     "metadata": {},
     "output_type": "execute_result"
    }
   ],
   "source": [
    "texno.columns"
   ]
  },
  {
   "cell_type": "code",
   "execution_count": 26,
   "metadata": {},
   "outputs": [
    {
     "data": {
      "text/plain": [
       "Text(0.5, 1.0, 'Распределение упоминаний компании ТЕХНО Лизинг')"
      ]
     },
     "execution_count": 26,
     "metadata": {},
     "output_type": "execute_result"
    },
    {
     "data": {
      "image/png": "[encoded data removed]",
      "text/plain": [
       "<Figure size 432x288 with 1 Axes>"
      ]
     },
     "metadata": {
      "needs_background": "light"
     },
     "output_type": "display_data"
    }
   ],
   "source": [
    "plt.hist(texno['ТЕХНО Лизинг'].values)\n",
    "plt.title('Распределение упоминаний компании ТЕХНО Лизинг')"
   ]
  },
  {
   "cell_type": "code",
   "execution_count": 27,
   "metadata": {},
   "outputs": [
    {
     "name": "stderr",
     "output_type": "stream",
     "text": [
      "c:\\python\\python37\\lib\\site-packages\\ipykernel_launcher.py:2: SettingWithCopyWarning: \n",
      "A value is trying to be set on a copy of a slice from a DataFrame\n",
      "\n",
      "See the caveats in the documentation: http://pandas.pydata.org/pandas-docs/stable/user_guide/indexing.html#returning-a-view-versus-a-copy\n",
      "  \n",
      "c:\\python\\python37\\lib\\site-packages\\ipykernel_launcher.py:3: SettingWithCopyWarning: \n",
      "A value is trying to be set on a copy of a slice from a DataFrame\n",
      "\n",
      "See the caveats in the documentation: http://pandas.pydata.org/pandas-docs/stable/user_guide/indexing.html#returning-a-view-versus-a-copy\n",
      "  This is separate from the ipykernel package so we can avoid doing imports until\n"
     ]
    }
   ],
   "source": [
    "rodelen['Роделен'][rodelen['Роделен'].isin((1,2))]=1\n",
    "rodelen['Роделен'][rodelen['Роделен'].isin((3,4))]=2\n",
    "rodelen['Роделен'][rodelen['Роделен']>=5]=3"
   ]
  },
  {
   "cell_type": "code",
   "execution_count": 28,
   "metadata": {},
   "outputs": [
    {
     "data": {
      "text/plain": [
       "0    562\n",
       "2    128\n",
       "1     82\n",
       "3     44\n",
       "Name: Роделен, dtype: int64"
      ]
     },
     "execution_count": 28,
     "metadata": {},
     "output_type": "execute_result"
    }
   ],
   "source": [
    "rodelen['Роделен'].value_counts()"
   ]
  },
  {
   "cell_type": "code",
   "execution_count": 29,
   "metadata": {},
   "outputs": [
    {
     "name": "stderr",
     "output_type": "stream",
     "text": [
      "c:\\python\\python37\\lib\\site-packages\\ipykernel_launcher.py:1: SettingWithCopyWarning: \n",
      "A value is trying to be set on a copy of a slice from a DataFrame\n",
      "\n",
      "See the caveats in the documentation: http://pandas.pydata.org/pandas-docs/stable/user_guide/indexing.html#returning-a-view-versus-a-copy\n",
      "  \"\"\"Entry point for launching an IPython kernel.\n",
      "c:\\python\\python37\\lib\\site-packages\\ipykernel_launcher.py:2: SettingWithCopyWarning: \n",
      "A value is trying to be set on a copy of a slice from a DataFrame\n",
      "\n",
      "See the caveats in the documentation: http://pandas.pydata.org/pandas-docs/stable/user_guide/indexing.html#returning-a-view-versus-a-copy\n",
      "  \n",
      "c:\\python\\python37\\lib\\site-packages\\ipykernel_launcher.py:3: SettingWithCopyWarning: \n",
      "A value is trying to be set on a copy of a slice from a DataFrame\n",
      "\n",
      "See the caveats in the documentation: http://pandas.pydata.org/pandas-docs/stable/user_guide/indexing.html#returning-a-view-versus-a-copy\n",
      "  This is separate from the ipykernel package so we can avoid doing imports until\n"
     ]
    }
   ],
   "source": [
    "texno['ТЕХНО Лизинг'][texno['ТЕХНО Лизинг'].isin((1,2))]=1\n",
    "texno['ТЕХНО Лизинг'][texno['ТЕХНО Лизинг'].isin((3,4))]=2\n",
    "texno['ТЕХНО Лизинг'][texno['ТЕХНО Лизинг']>=5]=3"
   ]
  },
  {
   "cell_type": "code",
   "execution_count": 30,
   "metadata": {},
   "outputs": [
    {
     "data": {
      "text/plain": [
       "0    528\n",
       "1    196\n",
       "2     50\n",
       "3     42\n",
       "Name: ТЕХНО Лизинг, dtype: int64"
      ]
     },
     "execution_count": 30,
     "metadata": {},
     "output_type": "execute_result"
    }
   ],
   "source": [
    "texno['ТЕХНО Лизинг'].value_counts()"
   ]
  },
  {
   "cell_type": "code",
   "execution_count": 31,
   "metadata": {},
   "outputs": [
    {
     "name": "stderr",
     "output_type": "stream",
     "text": [
      "c:\\python\\python37\\lib\\site-packages\\ipykernel_launcher.py:1: SettingWithCopyWarning: \n",
      "A value is trying to be set on a copy of a slice from a DataFrame\n",
      "\n",
      "See the caveats in the documentation: http://pandas.pydata.org/pandas-docs/stable/user_guide/indexing.html#returning-a-view-versus-a-copy\n",
      "  \"\"\"Entry point for launching an IPython kernel.\n",
      "c:\\python\\python37\\lib\\site-packages\\ipykernel_launcher.py:2: SettingWithCopyWarning: \n",
      "A value is trying to be set on a copy of a slice from a DataFrame\n",
      "\n",
      "See the caveats in the documentation: http://pandas.pydata.org/pandas-docs/stable/user_guide/indexing.html#returning-a-view-versus-a-copy\n",
      "  \n",
      "c:\\python\\python37\\lib\\site-packages\\ipykernel_launcher.py:3: SettingWithCopyWarning: \n",
      "A value is trying to be set on a copy of a slice from a DataFrame\n",
      "\n",
      "See the caveats in the documentation: http://pandas.pydata.org/pandas-docs/stable/user_guide/indexing.html#returning-a-view-versus-a-copy\n",
      "  This is separate from the ipykernel package so we can avoid doing imports until\n"
     ]
    }
   ],
   "source": [
    "pioner['Пионер-Лизинг'][pioner['Пионер-Лизинг'].isin((1,2))]=1\n",
    "pioner['Пионер-Лизинг'][pioner['Пионер-Лизинг'].isin((3,4))]=2\n",
    "pioner['Пионер-Лизинг'][pioner['Пионер-Лизинг']>=5]=3"
   ]
  },
  {
   "cell_type": "code",
   "execution_count": 32,
   "metadata": {},
   "outputs": [
    {
     "data": {
      "text/plain": [
       "0    407\n",
       "1    217\n",
       "2    104\n",
       "3     88\n",
       "Name: Пионер-Лизинг, dtype: int64"
      ]
     },
     "execution_count": 32,
     "metadata": {},
     "output_type": "execute_result"
    }
   ],
   "source": [
    "pioner['Пионер-Лизинг'].value_counts()"
   ]
  },
  {
   "cell_type": "code",
   "execution_count": 33,
   "metadata": {},
   "outputs": [
    {
     "data": {
      "text/plain": [
       "False"
      ]
     },
     "execution_count": 33,
     "metadata": {},
     "output_type": "execute_result"
    }
   ],
   "source": [
    "#Proverka\n",
    "#texno[texno.columns[1]].sum() == sum([sum(x[texno.columns[1]].values) for x in chatiki])"
   ]
  },
  {
   "cell_type": "code",
   "execution_count": 43,
   "metadata": {},
   "outputs": [],
   "source": [
    "#Итоговые\n",
    "rodelen_itog = pd.concat([rodelen.set_index('time'), adv_rodelen], axis = 1)\n",
    "rodelen_itog.fillna(0, inplace = True)\n",
    "#rodelen_itog.to_csv('rodelen_itog.csv')\n",
    "\n",
    "texno_itog = pd.concat([texno.set_index('time'), adv_texno], axis = 1)\n",
    "texno_itog.fillna(0, inplace = True)\n",
    "#texno_itog.to_csv('rodelen_itog.csv')\n",
    "\n",
    "pioner_itog = pd.concat([pioner.set_index('time'), adv_pioner], axis = 1)\n",
    "pioner_itog.fillna(0, inplace = True)\n",
    "#pioner_itog.to_csv('rodelen_itog.csv')"
   ]
  },
  {
   "cell_type": "code",
   "execution_count": 44,
   "metadata": {},
   "outputs": [],
   "source": [
    "rodelen_itog.to_csv('rodelen_itog.csv')\n",
    "texno_itog.to_csv('texno_itog.csv')\n",
    "pioner_itog.to_csv('pioner_itog.csv')"
   ]
  }
 ],
 "metadata": {
  "kernelspec": {
   "display_name": "Python 3",
   "language": "python",
   "name": "python3"
  },
  "language_info": {
   "codemirror_mode": {
    "name": "ipython",
    "version": 3
   },
   "file_extension": ".py",
   "mimetype": "text/x-python",
   "name": "python",
   "nbconvert_exporter": "python",
   "pygments_lexer": "ipython3",
   "version": "3.7.6"
  }
 },
 "nbformat": 4,
 "nbformat_minor": 4
}
